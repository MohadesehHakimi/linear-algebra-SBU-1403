{
 "cells": [
  {
   "cell_type": "markdown",
   "source": [
    "Q1-A"
   ],
   "metadata": {
    "collapsed": false
   },
   "id": "a6516723f8c34f3c"
  },
  {
   "cell_type": "code",
   "execution_count": 1,
   "id": "initial_id",
   "metadata": {
    "collapsed": true,
    "ExecuteTime": {
     "end_time": "2024-08-02T19:03:08.821475162Z",
     "start_time": "2024-08-02T19:03:06.262033949Z"
    }
   },
   "outputs": [
    {
     "name": "stdout",
     "output_type": "stream",
     "text": [
      "Eigenvector corresponding to largest eigenvalue: \n",
      "[0.40941021 0.38367586 0.49714097 0.44216303 0.492462  ]\n",
      "Top 3 nodes with the highest centrality: \n",
      "[2 4 3]\n"
     ]
    }
   ],
   "source": [
    "import numpy as np\n",
    "\n",
    "\n",
    "n = int(input(\"Enter the dimension of the matrix: \"))\n",
    "# enter each row in one line\n",
    "# matrix = np.array([list(map(int, input().split())) for i in range(n)])\n",
    "matrix = np.array(\n",
    "     [[0, 0.1, 0.5, 0.3, 0.7],\n",
    "      [0.1, 0, 0.2, 0.4, 0.8],\n",
    "      [0.5, 0.2, 0, 0.9, 0.6],\n",
    "      [0.3, 0.4, 0.9, 0, 0.3],\n",
    "      [0.7, 0.8, 0.6, 0.3, 0]]\n",
    ")\n",
    "\n",
    "convergence_criteria = 0.000001 # 10^-6\n",
    "\n",
    "\n",
    "def find_eigenvectors_using_power_iteration(matrix, iterations=1000):\n",
    "    x = np.array([1 for i in range(len(matrix))])   # initial guess\n",
    "    for i in range(iterations):\n",
    "        x_prev = x.copy()\n",
    "        x = np.dot(matrix, x)\n",
    "        x = x / np.linalg.norm(x)\n",
    "        \n",
    "        # check for convergence\n",
    "        if np.abs(np.linalg.norm(x) - np.linalg.norm(x_prev)) < convergence_criteria:\n",
    "            return x\n",
    "    print(f\"Did not converge in {iterations} iterations\")\n",
    "    return x\n",
    "\n",
    "\n",
    "def find_top_three_nodes_for_centrality(matrix):\n",
    "    # find eigenvector corresponding to largest eigenvalue\n",
    "    eigenvector = find_eigenvectors_using_power_iteration(matrix)\n",
    "    # find top 3 nodes\n",
    "    centrality = np.abs(eigenvector)\n",
    "    top_three_nodes = np.argsort(centrality)[::-1][:3]\n",
    "    return top_three_nodes\n",
    "\n",
    "print(\"Eigenvector corresponding to largest eigenvalue: \")\n",
    "print(find_eigenvectors_using_power_iteration(matrix))\n",
    "print(\"Top 3 nodes with the highest centrality: \")\n",
    "print(find_top_three_nodes_for_centrality(matrix))"
   ]
  },
  {
   "cell_type": "markdown",
   "source": [
    "Q1-B"
   ],
   "metadata": {
    "collapsed": false
   },
   "id": "142ec08eaa23154d"
  },
  {
   "cell_type": "code",
   "execution_count": 2,
   "outputs": [
    {
     "name": "stdout",
     "output_type": "stream",
     "text": [
      "Laplacian matrix: \n",
      "[[ 1.6 -0.1 -0.5 -0.3 -0.7]\n",
      " [-0.1  1.5 -0.2 -0.4 -0.8]\n",
      " [-0.5 -0.2  2.2 -0.9 -0.6]\n",
      " [-0.3 -0.4 -0.9  1.9 -0.3]\n",
      " [-0.7 -0.8 -0.6 -0.3  2.4]]\n",
      "Fiedler vector: \n",
      "[-0.17243677 -0.31934463 -0.52996656  0.32999342  0.69175455]\n",
      "Clusters of friendship: \n",
      "([3, 4], [0, 1, 2])\n",
      "Nullity of the Laplacian matrix:  1\n"
     ]
    }
   ],
   "source": [
    "# construct a laplacian matrix from the adjacency matrix\n",
    "def construct_laplacian_matrix(matrix):\n",
    "    degree_matrix = np.diag([sum(matrix[i]) for i in range(len(matrix))])\n",
    "    laplacian_matrix = degree_matrix - matrix\n",
    "    return laplacian_matrix\n",
    "\n",
    "# find Fiedler vector (the second-smallest eigenvector) of the Laplacian matrix\n",
    "def find_fiedler_vector(matrix):\n",
    "    laplacian_matrix = construct_laplacian_matrix(matrix)\n",
    "    eigenvalues, eigenvectors = np.linalg.eig(laplacian_matrix)\n",
    "    fiedler_vector = eigenvectors[:, 1]\n",
    "    return fiedler_vector\n",
    "\n",
    "\n",
    "def find_clusters_of_friendship(matrix):\n",
    "    fiedler_vector = find_fiedler_vector(matrix)\n",
    "    # separate clusters based on the sign of the Fiedler vector\n",
    "    cluster1 = [i for i in range(len(fiedler_vector)) if fiedler_vector[i] >= 0]\n",
    "    cluster2 = [i for i in range(len(fiedler_vector)) if fiedler_vector[i] < 0]\n",
    "    return cluster1, cluster2\n",
    "\n",
    "\n",
    "def nullity(matrix):\n",
    "    return len(matrix) - np.linalg.matrix_rank(matrix)\n",
    "\n",
    "    \n",
    "print(\"Laplacian matrix: \")\n",
    "print(construct_laplacian_matrix(matrix))\n",
    "print(\"Fiedler vector: \")\n",
    "print(find_fiedler_vector(matrix))\n",
    "print(\"Clusters of friendship: \")\n",
    "print(find_clusters_of_friendship(matrix))\n",
    "\n",
    "print(\"Nullity of the Laplacian matrix: \", nullity(construct_laplacian_matrix(matrix)))"
   ],
   "metadata": {
    "collapsed": false,
    "ExecuteTime": {
     "end_time": "2024-08-02T19:03:17.930933491Z",
     "start_time": "2024-08-02T19:03:17.871648547Z"
    }
   },
   "id": "e2fe6b7248da47ab"
  },
  {
   "cell_type": "markdown",
   "source": [
    "Q1-C"
   ],
   "metadata": {
    "collapsed": false
   },
   "id": "bacd653067b3df1b"
  },
  {
   "cell_type": "code",
   "execution_count": null,
   "outputs": [],
   "source": [],
   "metadata": {
    "collapsed": false
   },
   "id": "83dc4123e92e88e1"
  },
  {
   "cell_type": "markdown",
   "source": [
    "Q2"
   ],
   "metadata": {
    "collapsed": false
   },
   "id": "4e2c9bc40e48bad7"
  },
  {
   "cell_type": "code",
   "execution_count": 3,
   "outputs": [
    {
     "name": "stdout",
     "output_type": "stream",
     "text": [
      "calculating A^N using eigenvectors...\n",
      "result: \n",
      "[[562666043470786140987014004364455922830291254449518195833126492124477401145175508196761925338604020403328657564246422586816366843722311490696160201122378809106134779388840824752807502381465943413687931312079272298471628420463629239731177204418909236264697856\n",
      "  347746739180371690203199316950597274580436062820877071858230443699913266674995758441600205448424256303143556282093284667455391092236800895219882852751938327474531633940082949609141922938432167022413433847350502063113724778470905985954988267613739686916259840]\n",
      " [347746739180371636859083853911763081941621737050814694700163865172647983504933264329302302907367684131685949309658958724016106344770877328109469619797017684567683215293442580847881286826315699317787146552838304231393595691378090132429003967802049357605240832\n",
      "  214919304290414397439699224375024455611040865858578746816829469897298851300117255642863817349123191928727494309718811975921691004019587028365864115415519838724754726802117506382404943330917308686648210170216572403637774554899907400250204636993479220037419008]]\n",
      "nth fibonacci number:  347746739180371690203199316950597274580436062820877071858230443699913266674995758441600205448424256303143556282093284667455391092236800895219882852751938327474531633940082949609141922938432167022413433847350502063113724778470905985954988267613739686916259840\n",
      "Time taken:  0.0007901191711425781 seconds\n",
      "\n",
      "calculating A^N using matrix multiplication in O(log n)...\n",
      "result: \n",
      "[[ 2654805133464336809 -2651754408573296569]\n",
      " [-2651754408573296569  5306559542037633378]]\n",
      "nth fibonacci number:  -2651754408573296569\n",
      "Time taken:  0.00030040740966796875 seconds\n"
     ]
    }
   ],
   "source": [
    "import numpy as np\n",
    "import time\n",
    "\n",
    "\n",
    "N = 1234\n",
    "fib_matrix = np.array([[1, 1], [1, 0]])\n",
    "\n",
    "\n",
    "def matrix_multiplication(matrix, n):\n",
    "    # use A^2 to calculate in O(log n)\n",
    "    if n == 1:\n",
    "        return matrix\n",
    "    else:\n",
    "        half = matrix_multiplication(matrix, n//2)\n",
    "        if n % 2 == 0:\n",
    "            return np.dot(half, half)\n",
    "        else:\n",
    "            return np.dot(np.dot(half, half), matrix)\n",
    "\n",
    "        \n",
    "def matrix_multiplication_using_eigenvectors(matrix):\n",
    "    # A = PDP^-1\n",
    "    # A^n = PD^nP^-1\n",
    "    \n",
    "    eigenvalues, eigenvectors = np.linalg.eig(matrix)\n",
    "    P = eigenvectors\n",
    "    # D = np.diag(eigenvalues)\n",
    "    P_inv = np.linalg.inv(P)\n",
    "    # use matrix_multiplication to calculate D^n\n",
    "    D_power_n = matrix_multiplication(np.diag(eigenvalues), N)\n",
    "    result = np.dot(np.dot(P, D_power_n), P_inv)\n",
    "    # if the result is in scientific notation, convert it to an integer\n",
    "    result = np.array([[int(result[i][j]) for j in range(len(result[i]))] for i in range(len(result))])\n",
    "    return result\n",
    "\n",
    "\n",
    "print(\"calculating A^N using eigenvectors...\")\n",
    "start = time.time()\n",
    "result = matrix_multiplication_using_eigenvectors(fib_matrix)\n",
    "end = time.time()\n",
    "print(\"result: \")\n",
    "print(result)\n",
    "print(\"nth fibonacci number: \", result[0][1])\n",
    "print(\"Time taken: \", end-start, \"seconds\")\n",
    "print()\n",
    "        \n",
    "print(\"calculating A^N using matrix multiplication in O(log n)...\")\n",
    "start = time.time()\n",
    "result = matrix_multiplication(fib_matrix, N)\n",
    "end = time.time()\n",
    "print(\"result: \")\n",
    "print(result)\n",
    "print(\"nth fibonacci number: \", result[0][1])\n",
    "print(\"Time taken: \", end-start, \"seconds\")"
   ],
   "metadata": {
    "collapsed": false,
    "ExecuteTime": {
     "end_time": "2024-08-02T19:03:28.288976819Z",
     "start_time": "2024-08-02T19:03:28.272300452Z"
    }
   },
   "id": "a7b77a6b9a1abbca"
  },
  {
   "cell_type": "markdown",
   "source": [],
   "metadata": {
    "collapsed": false
   },
   "id": "3331b3e95b6b0fd3"
  }
 ],
 "metadata": {
  "kernelspec": {
   "display_name": "Python 3",
   "language": "python",
   "name": "python3"
  },
  "language_info": {
   "codemirror_mode": {
    "name": "ipython",
    "version": 2
   },
   "file_extension": ".py",
   "mimetype": "text/x-python",
   "name": "python",
   "nbconvert_exporter": "python",
   "pygments_lexer": "ipython2",
   "version": "2.7.6"
  }
 },
 "nbformat": 4,
 "nbformat_minor": 5
}
