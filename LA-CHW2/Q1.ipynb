{
 "cells": [
  {
   "cell_type": "code",
   "execution_count": 19,
   "outputs": [],
   "source": [
    "n = int(input(\"Enter the number of variables: \"))\n",
    "coefficients = []\n",
    "constants = []\n",
    "\n",
    "for i in range(2 * n):\n",
    "    if i % 2 == 0:\n",
    "        nums = map(int, input(\"Enter the coefficients of equation \" + str(i // 2 + 1) + \": \").split())\n",
    "        coefficients.append(list(nums))\n",
    "    else:\n",
    "        constants.append(int(input(\"Enter the constant of equation \" + str(i // 2 + 1) + \": \")))\n",
    "        "
   ],
   "metadata": {
    "collapsed": false,
    "ExecuteTime": {
     "end_time": "2024-04-02T15:39:09.715104318Z",
     "start_time": "2024-04-02T15:38:56.032791534Z"
    }
   },
   "id": "initial_id"
  },
  {
   "cell_type": "code",
   "execution_count": 20,
   "outputs": [],
   "source": [
    "def recursive_determinant(matrix, n):\n",
    "    # use first row to calculate determinant\n",
    "    if n == 1:\n",
    "        return matrix[0][0]\n",
    "    elif n == 2:\n",
    "        return matrix[0][0] * matrix[1][1] - matrix[0][1] * matrix[1][0]\n",
    "    else:\n",
    "        det = 0\n",
    "        sign = 1\n",
    "        for c in range(n):\n",
    "            det += sign * matrix[0][c] * recursive_determinant([row[:c] + row[c + 1:] for row in matrix[1:]], n - 1)\n",
    "            sign *= -1\n",
    "        return det\n",
    "    "
   ],
   "metadata": {
    "collapsed": false,
    "ExecuteTime": {
     "end_time": "2024-04-02T15:39:10.966451848Z",
     "start_time": "2024-04-02T15:39:10.959985093Z"
    }
   },
   "id": "7ea9d4e3dd2ae1de"
  },
  {
   "cell_type": "code",
   "execution_count": 21,
   "outputs": [],
   "source": [
    "def transpose(matrix):\n",
    "    t = [[0 for i in range(len(matrix))] for j in range(len(matrix[0]))]\n",
    "    for i in range(len(matrix)):\n",
    "        for j in range(len(matrix[0])):\n",
    "            t[j][i] = matrix[i][j]\n",
    "    return t\n"
   ],
   "metadata": {
    "collapsed": false,
    "ExecuteTime": {
     "end_time": "2024-04-02T15:39:11.313477829Z",
     "start_time": "2024-04-02T15:39:11.306183826Z"
    }
   },
   "id": "c7bf2faa8425a3e8"
  },
  {
   "cell_type": "code",
   "execution_count": 22,
   "outputs": [],
   "source": [
    "def find_inverse_matrix(matrix):\n",
    "    # use determinant of the matrix to find the inverse matrix\n",
    "    det = recursive_determinant(matrix, len(matrix))\n",
    "    if det == 0:\n",
    "        return None\n",
    "    else:\n",
    "        adj_matrix = []\n",
    "        for i in range(len(matrix)):\n",
    "            adj_matrix.append([])\n",
    "            for j in range(len(matrix)):\n",
    "                element = (-1) ** (i + j) * recursive_determinant([row[:j] + row[j + 1:] for row in matrix[:i] + matrix[i + 1:]],\n",
    "                                                                 len(matrix) - 1)\n",
    "                adj_matrix[i].append(element)\n",
    "    # transpose the adjoint matrix\n",
    "    adj_matrix = transpose(adj_matrix)\n",
    "    # multiply the adjoint matrix by 1/determinant\n",
    "    for i in range(len(matrix)):\n",
    "        for j in range(len(matrix)):\n",
    "            adj_matrix[i][j] /= det\n",
    "    return adj_matrix\n"
   ],
   "metadata": {
    "collapsed": false,
    "ExecuteTime": {
     "end_time": "2024-04-02T15:39:11.660635041Z",
     "start_time": "2024-04-02T15:39:11.657421011Z"
    }
   },
   "id": "ffaae209b5ae6923"
  },
  {
   "cell_type": "code",
   "execution_count": 23,
   "outputs": [],
   "source": [
    "def solve_equation_using_inverse_matrix(coefficients, constants):\n",
    "    inverse_matrix = find_inverse_matrix(coefficients)\n",
    "    if inverse_matrix is None:\n",
    "        return None\n",
    "    else:\n",
    "        solution = []\n",
    "        for i in range(len(inverse_matrix)):\n",
    "            x = 0\n",
    "            for j in range(len(inverse_matrix[0])):\n",
    "                x += inverse_matrix[i][j] * constants[j]\n",
    "            solution.append(x)\n",
    "        return solution\n",
    "    "
   ],
   "metadata": {
    "collapsed": false,
    "ExecuteTime": {
     "end_time": "2024-04-02T15:39:12.047057888Z",
     "start_time": "2024-04-02T15:39:12.042694570Z"
    }
   },
   "id": "edb5780cd57dc8b5"
  },
  {
   "cell_type": "code",
   "execution_count": 24,
   "outputs": [],
   "source": [
    "def solve_equation_using_crammer_rule(coefficients, constants):\n",
    "     det = recursive_determinant(coefficients, len(coefficients))\n",
    "     if det == 0:\n",
    "        return None\n",
    "     else:\n",
    "        for i in range(len(coefficients[0])):\n",
    "            A_k = [row[:] for row in coefficients]\n",
    "            # replace k-th column with constants\n",
    "            for j in range(len(coefficients)):\n",
    "                A_k[j][i] = constants[j]\n",
    "            det_k = recursive_determinant(A_k, len(coefficients))\n",
    "            x = det_k / det\n",
    "            print(f'x{i + 1} = {x:.1f}')\n"
   ],
   "metadata": {
    "collapsed": false,
    "ExecuteTime": {
     "end_time": "2024-04-02T15:39:12.420918876Z",
     "start_time": "2024-04-02T15:39:12.417865277Z"
    }
   },
   "id": "eea1c9e62a12aa54"
  },
  {
   "cell_type": "code",
   "execution_count": 25,
   "outputs": [
    {
     "name": "stdout",
     "output_type": "stream",
     "text": [
      "Solution using Crammer's Rule:\n",
      "x1 = 6.0\n",
      "x2 = -0.3\n",
      "Solution using Inverse Matrix:\n",
      "x1 = 6.0\n",
      "x2 = -0.3\n"
     ]
    }
   ],
   "source": [
    "# solution 1\n",
    "print(\"Solution using Crammer's Rule:\")\n",
    "solve_equation_using_crammer_rule(coefficients, constants)\n",
    "\n",
    "# solution 2\n",
    "print(\"Solution using Inverse Matrix:\")\n",
    "solution = solve_equation_using_inverse_matrix(coefficients, constants)\n",
    "if solution is None:\n",
    "    print(\"No solution\")\n",
    "else:\n",
    "    for i in range(len(solution)):\n",
    "        print(f'x{i + 1} = {solution[i]:.1f}')\n"
   ],
   "metadata": {
    "collapsed": false,
    "ExecuteTime": {
     "end_time": "2024-04-02T15:39:12.848283481Z",
     "start_time": "2024-04-02T15:39:12.845457300Z"
    }
   },
   "id": "f5db5801c9b1b4f8"
  }
 ],
 "metadata": {
  "kernelspec": {
   "display_name": "Python 3",
   "language": "python",
   "name": "python3"
  },
  "language_info": {
   "codemirror_mode": {
    "name": "ipython",
    "version": 2
   },
   "file_extension": ".py",
   "mimetype": "text/x-python",
   "name": "python",
   "nbconvert_exporter": "python",
   "pygments_lexer": "ipython2",
   "version": "2.7.6"
  }
 },
 "nbformat": 4,
 "nbformat_minor": 5
}
