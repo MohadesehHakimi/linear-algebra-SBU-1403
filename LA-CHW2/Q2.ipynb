{
 "cells": [
  {
   "cell_type": "code",
   "execution_count": 1,
   "id": "initial_id",
   "metadata": {
    "collapsed": true,
    "ExecuteTime": {
     "end_time": "2024-04-02T18:50:29.394934430Z",
     "start_time": "2024-04-02T18:50:14.132479089Z"
    }
   },
   "outputs": [
    {
     "name": "stdout",
     "output_type": "stream",
     "text": [
      "Enter the elements of the matrix: \n"
     ]
    }
   ],
   "source": [
    "import numpy as np\n",
    "\n",
    "m = int(input(\"Enter the number of rows(m): \"))\n",
    "n = int(input(\"Enter the number of columns(n): \"))\n",
    "\n",
    "print(\"Enter the elements of the matrix: \")\n",
    "matrix = []\n",
    "for i in range(m):\n",
    "    a = input()\n",
    "    matrix.append(list(map(float, a.split())))\n"
   ]
  },
  {
   "cell_type": "code",
   "execution_count": 2,
   "outputs": [
    {
     "name": "stdout",
     "output_type": "stream",
     "text": [
      "Row Echelon Form of the matrix is: \n",
      "[1.  0.5 0.5]\n",
      "[0. 1. 0.]\n",
      "[0. 0. 1.]\n"
     ]
    }
   ],
   "source": [
    "def row_echelon_form(matrix, m, n, ref_matrix):\n",
    "    # if matrix == 0, return 0\n",
    "    if np.all(matrix == 0):\n",
    "        ref_matrix = np.vstack((ref_matrix, matrix))\n",
    "        return ref_matrix\n",
    "    # find leftmost non-zero column\n",
    "    pivot_col = 0\n",
    "    for i in range(n):\n",
    "        if matrix[0][i] != 0:\n",
    "            pivot_col = i\n",
    "            break\n",
    "    # divide the row by the pivot element to achieve one in the pivot position\n",
    "    matrix[0] = matrix[0] / matrix[0][pivot_col]\n",
    "    # eliminate(zero) the elements below the pivot element\n",
    "    for i in range(1, m):\n",
    "        matrix[i] = matrix[i] - matrix[i][pivot_col] * matrix[0]\n",
    "    # add the first row to the ref_matrix, change -0 to 0\n",
    "    try:\n",
    "        matrix[0] = np.where(matrix[0] == -0, 0, matrix[0])\n",
    "        ref_matrix = np.vstack((ref_matrix, matrix[0]))\n",
    "    except ValueError:\n",
    "        # to make sure the dimensions of the matrices are the same\n",
    "        ref_matrix = matrix[0]\n",
    "    # recursively call the function to the sub-matrix\n",
    "    return row_echelon_form(matrix[1:], m-1, n, ref_matrix)\n",
    "\n",
    "print(\"Row Echelon Form of the matrix is: \")\n",
    "echelon_form = row_echelon_form(np.array(matrix), m, n, np.array([]))\n",
    "for row in echelon_form:\n",
    "    print(row)\n"
   ],
   "metadata": {
    "collapsed": false,
    "ExecuteTime": {
     "end_time": "2024-04-02T18:50:32.513097118Z",
     "start_time": "2024-04-02T18:50:32.484322831Z"
    }
   },
   "id": "9ff5789fe8f638a8"
  },
  {
   "cell_type": "code",
   "execution_count": 3,
   "outputs": [
    {
     "name": "stdout",
     "output_type": "stream",
     "text": [
      "Rank of the matrix is:  3\n"
     ]
    }
   ],
   "source": [
    "def find_rank(ref_matrix):\n",
    "    rank = 0\n",
    "    for row in ref_matrix:\n",
    "        if not np.all(row == 0):\n",
    "            rank += 1\n",
    "    return rank\n",
    "print(\"Rank of the matrix is: \", find_rank(row_echelon_form(np.array(matrix), m, n, np.array([]))))\n"
   ],
   "metadata": {
    "collapsed": false,
    "ExecuteTime": {
     "end_time": "2024-04-02T18:51:24.686859602Z",
     "start_time": "2024-04-02T18:51:24.674106408Z"
    }
   },
   "id": "475fb69cc66ccb4b"
  }
 ],
 "metadata": {
  "kernelspec": {
   "display_name": "Python 3",
   "language": "python",
   "name": "python3"
  },
  "language_info": {
   "codemirror_mode": {
    "name": "ipython",
    "version": 2
   },
   "file_extension": ".py",
   "mimetype": "text/x-python",
   "name": "python",
   "nbconvert_exporter": "python",
   "pygments_lexer": "ipython2",
   "version": "2.7.6"
  }
 },
 "nbformat": 4,
 "nbformat_minor": 5
}
