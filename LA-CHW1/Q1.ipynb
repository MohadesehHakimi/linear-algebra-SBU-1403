{
 "cells": [
  {
   "cell_type": "markdown",
   "id": "3c7b87dda43130a2",
   "metadata": {},
   "source": [
    "check if x_new is in the span of vectors:\n",
    "the x_new should be written as a linear combination of vectors to be in the span of vectors.\n",
    "so, create an augmented matrix and check if it has a solution.\n",
    "if rank(A) == rank(A|b) => has a solution\n",
    "if rank(A) < rank(A|b) => no solution\n"
   ]
  },
  {
   "cell_type": "code",
   "execution_count": 36,
   "id": "ecda6a3de377e765",
   "metadata": {
    "ExecuteTime": {
     "end_time": "2024-03-15T22:06:18.638952703Z",
     "start_time": "2024-03-15T22:06:18.595619314Z"
    }
   },
   "outputs": [],
   "source": [
    "def solve_augmented_matrix(vectors, v):\n",
    "    A = np.array(vectors)\n",
    "    # convert A to a column vector\n",
    "    A = A.T\n",
    "    b = np.array(v)\n",
    "    # print(b)\n",
    "    aug_matrix = np.concatenate((A, b.reshape(-1, 1)), axis=1)\n",
    "    print(aug_matrix)\n",
    "    # print(b.reshape(-1, 1))\n",
    "    rank_A = linalg.matrix_rank(A)\n",
    "    rank_aug_matrix = linalg.matrix_rank(aug_matrix)\n",
    "    if rank_A == rank_aug_matrix:\n",
    "        return \"YES\"\n",
    "    else:\n",
    "        vectors.append(v)\n",
    "        return \"NO\""
   ]
  },
  {
   "cell_type": "markdown",
   "id": "4cce862c19766753",
   "metadata": {},
   "source": [
    "find projection of A onto B"
   ]
  },
  {
   "cell_type": "code",
   "execution_count": 16,
   "id": "2621824f23fcc95f",
   "metadata": {
    "ExecuteTime": {
     "end_time": "2024-03-15T21:55:09.835445655Z",
     "start_time": "2024-03-15T21:55:09.828851513Z"
    }
   },
   "outputs": [],
   "source": [
    "def projection(A, B):\n",
    "    A = np.array(A)\n",
    "    B = np.array(B)\n",
    "    proj = (np.dot(A, B) / np.dot(B, B)) * B\n",
    "    return proj"
   ]
  },
  {
   "cell_type": "markdown",
   "id": "896d60af4b2cd771",
   "metadata": {},
   "source": [
    "using Gram-Schmidt process, find the orthonormal basis for the vectors"
   ]
  },
  {
   "cell_type": "code",
   "execution_count": 17,
   "id": "bd7a8662bb8f25cd",
   "metadata": {
    "ExecuteTime": {
     "end_time": "2024-03-15T21:55:12.280786406Z",
     "start_time": "2024-03-15T21:55:12.264804804Z"
    }
   },
   "outputs": [],
   "source": [
    "def GramSchmidt(vectors):\n",
    "    b_prime = [vectors[0]]\n",
    "    for i in range(1, len(vectors)):\n",
    "        v = vectors[i]\n",
    "        for j in range(i):\n",
    "            v = v - projection(v, b_prime[j])\n",
    "        b_prime.append(v)\n",
    "    # normalize the vectors\n",
    "    b_prime = [v / linalg.norm(v) for v in b_prime]\n",
    "    return b_prime"
   ]
  },
  {
   "cell_type": "markdown",
   "id": "fff0cccc76e25f0",
   "metadata": {},
   "source": [
    "Input"
   ]
  },
  {
   "cell_type": "code",
   "execution_count": 37,
   "id": "initial_id",
   "metadata": {
    "ExecuteTime": {
     "end_time": "2024-03-15T22:06:30.948894783Z",
     "start_time": "2024-03-15T22:06:21.632834913Z"
    }
   },
   "outputs": [],
   "source": [
    "import numpy as np\n",
    "from numpy import linalg\n",
    "\n",
    "n = int(input())\n",
    "m = int(input())\n",
    "# vectors are in R^n space\n",
    "vectors = []\n",
    "for i in range(m):\n",
    "    vector = list(map(int, input().split()))\n",
    "    vectors.append(vector)\n",
    "    \n",
    "x_new = list(map(int, input().split()))"
   ]
  },
  {
   "cell_type": "markdown",
   "id": "3c719b70303979c9",
   "metadata": {},
   "source": [
    "Output"
   ]
  },
  {
   "cell_type": "code",
   "execution_count": 41,
   "id": "3b3d73c66ad9be8e",
   "metadata": {
    "ExecuteTime": {
     "end_time": "2024-03-15T22:10:21.461467831Z",
     "start_time": "2024-03-15T22:10:21.418245882Z"
    }
   },
   "outputs": [
    {
     "name": "stdout",
     "output_type": "stream",
     "text": [
      "[[1 1 1 1]\n",
      " [1 2 1 1]\n",
      " [1 2 0 0]]\n",
      "YES\n",
      "[0.57735027 0.57735027 0.57735027]\n",
      "[-0.81649658  0.40824829  0.40824829]\n",
      "[ 0.          0.70710678 -0.70710678]\n"
     ]
    }
   ],
   "source": [
    "print(solve_augmented_matrix(vectors, x_new))\n",
    "orthonormal_basis = GramSchmidt(vectors)\n",
    "for v in orthonormal_basis:\n",
    "    print(v)\n",
    "    "
   ]
  }
 ],
 "metadata": {
  "kernelspec": {
   "display_name": "Python 3 (ipykernel)",
   "language": "python",
   "name": "python3"
  },
  "language_info": {
   "codemirror_mode": {
    "name": "ipython",
    "version": 3
   },
   "file_extension": ".py",
   "mimetype": "text/x-python",
   "name": "python",
   "nbconvert_exporter": "python",
   "pygments_lexer": "ipython3",
   "version": "3.10.12"
  }
 },
 "nbformat": 4,
 "nbformat_minor": 5
}
